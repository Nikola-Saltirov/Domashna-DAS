{
 "cells": [
  {
   "cell_type": "code",
   "id": "initial_id",
   "metadata": {
    "collapsed": true,
    "ExecuteTime": {
     "end_time": "2024-12-21T21:26:40.657048Z",
     "start_time": "2024-12-21T21:26:40.025260Z"
    }
   },
   "source": "import pandas as pd",
   "outputs": [],
   "execution_count": 1
  },
  {
   "metadata": {
    "ExecuteTime": {
     "end_time": "2024-12-21T21:31:21.374281Z",
     "start_time": "2024-12-21T21:31:21.352011Z"
    }
   },
   "cell_type": "code",
   "source": [
    "tiker = \"ALK\"\n",
    "df = pd.read_csv(f\"stocks/data/{tiker}.csv\")\n",
    "print(df.isna().sum())\n",
    "df.ffill(axis=0, inplace=True)\n",
    "print(df.isna().sum())"
   ],
   "id": "e5e8112c330c3282",
   "outputs": [
    {
     "name": "stdout",
     "output_type": "stream",
     "text": [
      "Date                  0\n",
      "last_traded_price     0\n",
      "max                  51\n",
      "min                  51\n",
      "avg_price             0\n",
      "promet                0\n",
      "volume                0\n",
      "promet_BEST           0\n",
      "promet_vo_denari      0\n",
      "dtype: int64\n",
      "Date                 0\n",
      "last_traded_price    0\n",
      "max                  0\n",
      "min                  0\n",
      "avg_price            0\n",
      "promet               0\n",
      "volume               0\n",
      "promet_BEST          0\n",
      "promet_vo_denari     0\n",
      "dtype: int64\n"
     ]
    }
   ],
   "execution_count": 4
  },
  {
   "metadata": {
    "ExecuteTime": {
     "end_time": "2024-12-21T21:31:55.493763Z",
     "start_time": "2024-12-21T21:31:55.470878Z"
    }
   },
   "cell_type": "code",
   "source": "df.info()",
   "id": "acb66a2c0bb1c0fd",
   "outputs": [
    {
     "name": "stdout",
     "output_type": "stream",
     "text": [
      "<class 'pandas.core.frame.DataFrame'>\n",
      "RangeIndex: 2679 entries, 0 to 2678\n",
      "Data columns (total 9 columns):\n",
      " #   Column             Non-Null Count  Dtype  \n",
      "---  ------             --------------  -----  \n",
      " 0   Date               2679 non-null   object \n",
      " 1   last_traded_price  2679 non-null   object \n",
      " 2   max                2679 non-null   object \n",
      " 3   min                2679 non-null   object \n",
      " 4   avg_price          2679 non-null   object \n",
      " 5   promet             2679 non-null   object \n",
      " 6   volume             2679 non-null   float64\n",
      " 7   promet_BEST        2679 non-null   object \n",
      " 8   promet_vo_denari   2679 non-null   object \n",
      "dtypes: float64(1), object(8)\n",
      "memory usage: 188.5+ KB\n"
     ]
    }
   ],
   "execution_count": 5
  },
  {
   "metadata": {},
   "cell_type": "code",
   "outputs": [],
   "execution_count": null,
   "source": "",
   "id": "81c119107c7eab37"
  }
 ],
 "metadata": {
  "kernelspec": {
   "display_name": "Python 3",
   "language": "python",
   "name": "python3"
  },
  "language_info": {
   "codemirror_mode": {
    "name": "ipython",
    "version": 2
   },
   "file_extension": ".py",
   "mimetype": "text/x-python",
   "name": "python",
   "nbconvert_exporter": "python",
   "pygments_lexer": "ipython2",
   "version": "2.7.6"
  }
 },
 "nbformat": 4,
 "nbformat_minor": 5
}
